{
 "cells": [
  {
   "cell_type": "code",
   "execution_count": 1,
   "metadata": {},
   "outputs": [
    {
     "name": "stderr",
     "output_type": "stream",
     "text": [
      "C:\\Users\\drodr\\.conda\\envs\\Python36GPU\\lib\\site-packages\\tensorflow\\python\\framework\\dtypes.py:516: FutureWarning: Passing (type, 1) or '1type' as a synonym of type is deprecated; in a future version of numpy, it will be understood as (type, (1,)) / '(1,)type'.\n",
      "  _np_qint8 = np.dtype([(\"qint8\", np.int8, 1)])\n",
      "C:\\Users\\drodr\\.conda\\envs\\Python36GPU\\lib\\site-packages\\tensorflow\\python\\framework\\dtypes.py:517: FutureWarning: Passing (type, 1) or '1type' as a synonym of type is deprecated; in a future version of numpy, it will be understood as (type, (1,)) / '(1,)type'.\n",
      "  _np_quint8 = np.dtype([(\"quint8\", np.uint8, 1)])\n",
      "C:\\Users\\drodr\\.conda\\envs\\Python36GPU\\lib\\site-packages\\tensorflow\\python\\framework\\dtypes.py:518: FutureWarning: Passing (type, 1) or '1type' as a synonym of type is deprecated; in a future version of numpy, it will be understood as (type, (1,)) / '(1,)type'.\n",
      "  _np_qint16 = np.dtype([(\"qint16\", np.int16, 1)])\n",
      "C:\\Users\\drodr\\.conda\\envs\\Python36GPU\\lib\\site-packages\\tensorflow\\python\\framework\\dtypes.py:519: FutureWarning: Passing (type, 1) or '1type' as a synonym of type is deprecated; in a future version of numpy, it will be understood as (type, (1,)) / '(1,)type'.\n",
      "  _np_quint16 = np.dtype([(\"quint16\", np.uint16, 1)])\n",
      "C:\\Users\\drodr\\.conda\\envs\\Python36GPU\\lib\\site-packages\\tensorflow\\python\\framework\\dtypes.py:520: FutureWarning: Passing (type, 1) or '1type' as a synonym of type is deprecated; in a future version of numpy, it will be understood as (type, (1,)) / '(1,)type'.\n",
      "  _np_qint32 = np.dtype([(\"qint32\", np.int32, 1)])\n",
      "C:\\Users\\drodr\\.conda\\envs\\Python36GPU\\lib\\site-packages\\tensorflow\\python\\framework\\dtypes.py:525: FutureWarning: Passing (type, 1) or '1type' as a synonym of type is deprecated; in a future version of numpy, it will be understood as (type, (1,)) / '(1,)type'.\n",
      "  np_resource = np.dtype([(\"resource\", np.ubyte, 1)])\n"
     ]
    }
   ],
   "source": [
    "import numpy as np\n",
    "import tensorflow as tf\n",
    "from datetime import datetime\n",
    "\n",
    "# Choose which device you want to test on: either 'cpu' or 'gpu'\n",
    "devices = ['cpu', 'gpu']\n",
    "\n",
    "# Choose size of the matrix to be used.\n",
    "# Make it bigger to see bigger benefits of parallel computation\n",
    "shapes = [(50, 50), (100, 100), (500, 500), (1000, 1000)]\n",
    "\n"
   ]
  },
  {
   "cell_type": "code",
   "execution_count": 2,
   "metadata": {},
   "outputs": [],
   "source": [
    "\n",
    "def compute_operations(device, shape):\n",
    "    \"\"\"Run a simple set of operations on a matrix of given shape on given device\n",
    "\n",
    "    Parameters\n",
    "    ----------\n",
    "    device : the type of device to use, either 'cpu' or 'gpu' \n",
    "    shape : a tuple for the shape of a 2d tensor, e.g. (10, 10)\n",
    "\n",
    "    Returns\n",
    "    -------\n",
    "    out : results of the operations as the time taken\n",
    "    \"\"\"\n",
    "\n",
    "    # Define operations to be computed on selected device\n",
    "    with tf.device(device):\n",
    "        random_matrix = tf.random_uniform(shape=shape, minval=0, maxval=1)\n",
    "        dot_operation = tf.matmul(random_matrix, tf.transpose(random_matrix))\n",
    "        sum_operation = tf.reduce_sum(dot_operation)\n",
    "\n",
    "    # Time the actual runtime of the operations\n",
    "    start_time = datetime.now()\n",
    "    with tf.Session(config=tf.ConfigProto(log_device_placement=True)) as session:\n",
    "            result = session.run(sum_operation)\n",
    "    elapsed_time = datetime.now() - start_time\n",
    "\n",
    "    return result, elapsed_time\n",
    "\n",
    "\n"
   ]
  },
  {
   "cell_type": "code",
   "execution_count": 3,
   "metadata": {},
   "outputs": [
    {
     "name": "stdout",
     "output_type": "stream",
     "text": [
      "----------------------------------------\n",
      "Input shape: (50, 50) using Device: cpu took: 4.67\n",
      "Input shape: (100, 100) using Device: cpu took: 0.34\n",
      "Input shape: (500, 500) using Device: cpu took: 0.47\n",
      "Input shape: (1000, 1000) using Device: cpu took: 0.65\n",
      "----------------------------------------\n",
      "Input shape: (50, 50) using Device: gpu took: 2.00\n",
      "Input shape: (100, 100) using Device: gpu took: 0.81\n",
      "Input shape: (500, 500) using Device: gpu took: 0.88\n",
      "Input shape: (1000, 1000) using Device: gpu took: 1.11\n",
      "----------------------------------------\n"
     ]
    }
   ],
   "source": [
    "\n",
    "\n",
    "    # Run the computations and print summary of each run\n",
    "    for device in devices:\n",
    "        print(\"--\" * 20)\n",
    "\n",
    "        for shape in shapes:\n",
    "            _, time_taken = compute_operations(device, shape)\n",
    "\n",
    "            # Print the result and also the time taken on the selected device\n",
    "            print(\"Input shape:\", shape, \"using Device:\", device, \"took: {:.2f}\".format(time_taken.seconds + time_taken.microseconds/1e6))\n",
    "            #print(\"Computation on shape:\", shape, \"using Device:\", device, \"took:\")\n",
    "\n",
    "    print(\"--\" * 20)"
   ]
  },
  {
   "cell_type": "code",
   "execution_count": null,
   "metadata": {},
   "outputs": [],
   "source": []
  }
 ],
 "metadata": {
  "kernelspec": {
   "display_name": "Python 3",
   "language": "python",
   "name": "python3"
  },
  "language_info": {
   "codemirror_mode": {
    "name": "ipython",
    "version": 3
   },
   "file_extension": ".py",
   "mimetype": "text/x-python",
   "name": "python",
   "nbconvert_exporter": "python",
   "pygments_lexer": "ipython3",
   "version": "3.6.7"
  }
 },
 "nbformat": 4,
 "nbformat_minor": 2
}
