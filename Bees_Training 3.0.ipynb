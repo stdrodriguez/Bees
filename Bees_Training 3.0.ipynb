{
 "cells": [
  {
   "cell_type": "markdown",
   "metadata": {
    "_uuid": "63fa02cc6f3a2593013a53dcd20bdd9c54533efb"
   },
   "source": [
    "# 1. Setup"
   ]
  },
  {
   "cell_type": "markdown",
   "metadata": {},
   "source": [
    "## 1.1 Imports"
   ]
  },
  {
   "cell_type": "code",
   "execution_count": 1,
   "metadata": {
    "_cell_guid": "b1076dfc-b9ad-4769-8c92-a6c4dae69d19",
    "_uuid": "8f2839f25d086af736a60e9eeb907d3b93b6e0e5"
   },
   "outputs": [
    {
     "name": "stderr",
     "output_type": "stream",
     "text": [
      "Using TensorFlow backend.\n"
     ]
    }
   ],
   "source": [
    "import numpy as np\n",
    "\n",
    "from keras.models import Sequential\n",
    "from keras.layers import Dense, Conv2D, Flatten, MaxPool2D, Dropout\n",
    "import tensorflow as tf\n",
    "import tensorboard\n",
    "import Utils\n",
    "import datetime"
   ]
  },
  {
   "cell_type": "markdown",
   "metadata": {
    "_cell_guid": "b1076dfc-b9ad-4769-8c92-a6c4dae69d19",
    "_uuid": "8f2839f25d086af736a60e9eeb907d3b93b6e0e5"
   },
   "source": [
    "## 1.2 Set random seeds"
   ]
  },
  {
   "cell_type": "code",
   "execution_count": 2,
   "metadata": {
    "_cell_guid": "b1076dfc-b9ad-4769-8c92-a6c4dae69d19",
    "_uuid": "8f2839f25d086af736a60e9eeb907d3b93b6e0e5"
   },
   "outputs": [],
   "source": [
    "np.random.seed(117)\n",
    "tf.set_random_seed(117)"
   ]
  },
  {
   "cell_type": "markdown",
   "metadata": {
    "_cell_guid": "b1076dfc-b9ad-4769-8c92-a6c4dae69d19",
    "_uuid": "8f2839f25d086af736a60e9eeb907d3b93b6e0e5"
   },
   "source": [
    "## 1.3 Global variables"
   ]
  },
  {
   "cell_type": "code",
   "execution_count": 3,
   "metadata": {
    "_cell_guid": "b1076dfc-b9ad-4769-8c92-a6c4dae69d19",
    "_uuid": "8f2839f25d086af736a60e9eeb907d3b93b6e0e5"
   },
   "outputs": [],
   "source": [
    "img_width = 100\n",
    "img_height = 100\n",
    "img_channels = 3"
   ]
  },
  {
   "cell_type": "markdown",
   "metadata": {
    "_cell_guid": "79c7e3d0-c299-4dcb-8224-4455121ee9b0",
    "_uuid": "d629ff2d2480ee46fbb7e2d37f6b5fab8052498a"
   },
   "source": [
    "# 2. Carga de datos"
   ]
  },
  {
   "cell_type": "code",
   "execution_count": 4,
   "metadata": {
    "_uuid": "5d69ff10797c793abb7c5a05594f8d3463769995"
   },
   "outputs": [],
   "source": [
    "bees, bees_test_for_evaluation = Utils.read_data()"
   ]
  },
  {
   "cell_type": "code",
   "execution_count": 5,
   "metadata": {
    "_uuid": "5d69ff10797c793abb7c5a05594f8d3463769995",
    "scrolled": true
   },
   "outputs": [
    {
     "data": {
      "text/html": [
       "<div>\n",
       "<style scoped>\n",
       "    .dataframe tbody tr th:only-of-type {\n",
       "        vertical-align: middle;\n",
       "    }\n",
       "\n",
       "    .dataframe tbody tr th {\n",
       "        vertical-align: top;\n",
       "    }\n",
       "\n",
       "    .dataframe thead th {\n",
       "        text-align: right;\n",
       "    }\n",
       "</style>\n",
       "<table border=\"1\" class=\"dataframe\">\n",
       "  <thead>\n",
       "    <tr style=\"text-align: right;\">\n",
       "      <th></th>\n",
       "      <th>id</th>\n",
       "      <th>datetime</th>\n",
       "      <th>file</th>\n",
       "      <th>location</th>\n",
       "      <th>zip code</th>\n",
       "      <th>subspecies</th>\n",
       "      <th>health</th>\n",
       "      <th>pollen_carrying</th>\n",
       "      <th>caste</th>\n",
       "    </tr>\n",
       "  </thead>\n",
       "  <tbody>\n",
       "    <tr>\n",
       "      <th>0</th>\n",
       "      <td>0</td>\n",
       "      <td>2018-08-06 14:48:00</td>\n",
       "      <td>020_011.png</td>\n",
       "      <td>Saratoga, CA, USA</td>\n",
       "      <td>95070</td>\n",
       "      <td>Italian honey bee</td>\n",
       "      <td>healthy</td>\n",
       "      <td>False</td>\n",
       "      <td>worker</td>\n",
       "    </tr>\n",
       "    <tr>\n",
       "      <th>1</th>\n",
       "      <td>1</td>\n",
       "      <td>2018-08-21 09:00:00</td>\n",
       "      <td>032_507.png</td>\n",
       "      <td>Des Moines, IA, USA</td>\n",
       "      <td>50315</td>\n",
       "      <td>Russian honey bee</td>\n",
       "      <td>healthy</td>\n",
       "      <td>False</td>\n",
       "      <td>worker</td>\n",
       "    </tr>\n",
       "    <tr>\n",
       "      <th>2</th>\n",
       "      <td>2</td>\n",
       "      <td>2018-08-21 09:00:00</td>\n",
       "      <td>032_612.png</td>\n",
       "      <td>Des Moines, IA, USA</td>\n",
       "      <td>50315</td>\n",
       "      <td>Russian honey bee</td>\n",
       "      <td>healthy</td>\n",
       "      <td>False</td>\n",
       "      <td>worker</td>\n",
       "    </tr>\n",
       "    <tr>\n",
       "      <th>3</th>\n",
       "      <td>3</td>\n",
       "      <td>2018-08-17 17:50:00</td>\n",
       "      <td>030_773.png</td>\n",
       "      <td>Alvin, TX, USA</td>\n",
       "      <td>77511</td>\n",
       "      <td>Italian honey bee</td>\n",
       "      <td>ant problems</td>\n",
       "      <td>False</td>\n",
       "      <td>worker</td>\n",
       "    </tr>\n",
       "    <tr>\n",
       "      <th>4</th>\n",
       "      <td>4</td>\n",
       "      <td>2018-08-06 13:19:00</td>\n",
       "      <td>015_1052.png</td>\n",
       "      <td>Saratoga, CA, USA</td>\n",
       "      <td>95070</td>\n",
       "      <td>Italian honey bee</td>\n",
       "      <td>healthy</td>\n",
       "      <td>False</td>\n",
       "      <td>worker</td>\n",
       "    </tr>\n",
       "  </tbody>\n",
       "</table>\n",
       "</div>"
      ],
      "text/plain": [
       "   id             datetime          file             location  zip code  \\\n",
       "0   0  2018-08-06 14:48:00   020_011.png    Saratoga, CA, USA     95070   \n",
       "1   1  2018-08-21 09:00:00   032_507.png  Des Moines, IA, USA     50315   \n",
       "2   2  2018-08-21 09:00:00   032_612.png  Des Moines, IA, USA     50315   \n",
       "3   3  2018-08-17 17:50:00   030_773.png       Alvin, TX, USA     77511   \n",
       "4   4  2018-08-06 13:19:00  015_1052.png    Saratoga, CA, USA     95070   \n",
       "\n",
       "          subspecies        health  pollen_carrying   caste  \n",
       "0  Italian honey bee       healthy            False  worker  \n",
       "1  Russian honey bee       healthy            False  worker  \n",
       "2  Russian honey bee       healthy            False  worker  \n",
       "3  Italian honey bee  ant problems            False  worker  \n",
       "4  Italian honey bee       healthy            False  worker  "
      ]
     },
     "execution_count": 5,
     "metadata": {},
     "output_type": "execute_result"
    }
   ],
   "source": [
    "bees.head()"
   ]
  },
  {
   "cell_type": "code",
   "execution_count": 6,
   "metadata": {},
   "outputs": [
    {
     "data": {
      "text/html": [
       "<div>\n",
       "<style scoped>\n",
       "    .dataframe tbody tr th:only-of-type {\n",
       "        vertical-align: middle;\n",
       "    }\n",
       "\n",
       "    .dataframe tbody tr th {\n",
       "        vertical-align: top;\n",
       "    }\n",
       "\n",
       "    .dataframe thead th {\n",
       "        text-align: right;\n",
       "    }\n",
       "</style>\n",
       "<table border=\"1\" class=\"dataframe\">\n",
       "  <thead>\n",
       "    <tr style=\"text-align: right;\">\n",
       "      <th></th>\n",
       "      <th>id</th>\n",
       "      <th>datetime</th>\n",
       "      <th>file</th>\n",
       "      <th>location</th>\n",
       "      <th>zip code</th>\n",
       "      <th>pollen_carrying</th>\n",
       "      <th>caste</th>\n",
       "    </tr>\n",
       "  </thead>\n",
       "  <tbody>\n",
       "    <tr>\n",
       "      <th>0</th>\n",
       "      <td>0</td>\n",
       "      <td>2018-08-28 16:07:00</td>\n",
       "      <td>042_012.png</td>\n",
       "      <td>Alvin, TX, USA</td>\n",
       "      <td>77511</td>\n",
       "      <td>False</td>\n",
       "      <td>worker</td>\n",
       "    </tr>\n",
       "    <tr>\n",
       "      <th>1</th>\n",
       "      <td>1</td>\n",
       "      <td>2018-08-10 13:54:00</td>\n",
       "      <td>022_114.png</td>\n",
       "      <td>Saratoga, CA, USA</td>\n",
       "      <td>95070</td>\n",
       "      <td>False</td>\n",
       "      <td>worker</td>\n",
       "    </tr>\n",
       "    <tr>\n",
       "      <th>2</th>\n",
       "      <td>2</td>\n",
       "      <td>2018-08-18 12:30:00</td>\n",
       "      <td>038_384.png</td>\n",
       "      <td>Athens, Georgia, USA</td>\n",
       "      <td>30607</td>\n",
       "      <td>False</td>\n",
       "      <td>worker</td>\n",
       "    </tr>\n",
       "    <tr>\n",
       "      <th>3</th>\n",
       "      <td>3</td>\n",
       "      <td>2018-08-17 17:50:00</td>\n",
       "      <td>030_740.png</td>\n",
       "      <td>Alvin, TX, USA</td>\n",
       "      <td>77511</td>\n",
       "      <td>False</td>\n",
       "      <td>worker</td>\n",
       "    </tr>\n",
       "    <tr>\n",
       "      <th>4</th>\n",
       "      <td>4</td>\n",
       "      <td>2018-07-07 12:56:00</td>\n",
       "      <td>005_310.png</td>\n",
       "      <td>Saratoga, CA, USA</td>\n",
       "      <td>95070</td>\n",
       "      <td>False</td>\n",
       "      <td>worker</td>\n",
       "    </tr>\n",
       "  </tbody>\n",
       "</table>\n",
       "</div>"
      ],
      "text/plain": [
       "   id             datetime         file              location  zip code  \\\n",
       "0   0  2018-08-28 16:07:00  042_012.png        Alvin, TX, USA     77511   \n",
       "1   1  2018-08-10 13:54:00  022_114.png     Saratoga, CA, USA     95070   \n",
       "2   2  2018-08-18 12:30:00  038_384.png  Athens, Georgia, USA     30607   \n",
       "3   3  2018-08-17 17:50:00  030_740.png        Alvin, TX, USA     77511   \n",
       "4   4  2018-07-07 12:56:00  005_310.png     Saratoga, CA, USA     95070   \n",
       "\n",
       "   pollen_carrying   caste  \n",
       "0            False  worker  \n",
       "1            False  worker  \n",
       "2            False  worker  \n",
       "3            False  worker  \n",
       "4            False  worker  "
      ]
     },
     "execution_count": 6,
     "metadata": {},
     "output_type": "execute_result"
    }
   ],
   "source": [
    "bees_test_for_evaluation.head()"
   ]
  },
  {
   "cell_type": "markdown",
   "metadata": {
    "_uuid": "1419a5e71da60223177d900fd0e432e46bfa67a0"
   },
   "source": [
    "# 3. Análisis exploratorio de datos"
   ]
  },
  {
   "cell_type": "markdown",
   "metadata": {},
   "source": [
    "## 3.1 Análisis descriptivo: Distribuciones, Scatterplots, Barplots..."
   ]
  },
  {
   "cell_type": "code",
   "execution_count": 7,
   "metadata": {},
   "outputs": [
    {
     "data": {
      "image/png": "[encoded data removed]",
      "text/plain": [
       "<Figure size 432x288 with 1 Axes>"
      ]
     },
     "metadata": {
      "needs_background": "light"
     },
     "output_type": "display_data"
    }
   ],
   "source": [
    "Utils.value_counts(bees, 'subspecies')"
   ]
  },
  {
   "cell_type": "code",
   "execution_count": 8,
   "metadata": {},
   "outputs": [
    {
     "data": {
      "text/html": [
       "<div>\n",
       "<style scoped>\n",
       "    .dataframe tbody tr th:only-of-type {\n",
       "        vertical-align: middle;\n",
       "    }\n",
       "\n",
       "    .dataframe tbody tr th {\n",
       "        vertical-align: top;\n",
       "    }\n",
       "\n",
       "    .dataframe thead th {\n",
       "        text-align: right;\n",
       "    }\n",
       "</style>\n",
       "<table border=\"1\" class=\"dataframe\">\n",
       "  <thead>\n",
       "    <tr style=\"text-align: right;\">\n",
       "      <th></th>\n",
       "      <th>id</th>\n",
       "      <th>datetime</th>\n",
       "      <th>file</th>\n",
       "      <th>location</th>\n",
       "      <th>zip code</th>\n",
       "      <th>pollen_carrying</th>\n",
       "      <th>caste</th>\n",
       "    </tr>\n",
       "  </thead>\n",
       "  <tbody>\n",
       "    <tr>\n",
       "      <th>0</th>\n",
       "      <td>0</td>\n",
       "      <td>2018-08-28 16:07:00</td>\n",
       "      <td>042_012.png</td>\n",
       "      <td>Alvin, TX, USA</td>\n",
       "      <td>77511</td>\n",
       "      <td>False</td>\n",
       "      <td>worker</td>\n",
       "    </tr>\n",
       "    <tr>\n",
       "      <th>1</th>\n",
       "      <td>1</td>\n",
       "      <td>2018-08-10 13:54:00</td>\n",
       "      <td>022_114.png</td>\n",
       "      <td>Saratoga, CA, USA</td>\n",
       "      <td>95070</td>\n",
       "      <td>False</td>\n",
       "      <td>worker</td>\n",
       "    </tr>\n",
       "    <tr>\n",
       "      <th>2</th>\n",
       "      <td>2</td>\n",
       "      <td>2018-08-18 12:30:00</td>\n",
       "      <td>038_384.png</td>\n",
       "      <td>Athens, Georgia, USA</td>\n",
       "      <td>30607</td>\n",
       "      <td>False</td>\n",
       "      <td>worker</td>\n",
       "    </tr>\n",
       "    <tr>\n",
       "      <th>3</th>\n",
       "      <td>3</td>\n",
       "      <td>2018-08-17 17:50:00</td>\n",
       "      <td>030_740.png</td>\n",
       "      <td>Alvin, TX, USA</td>\n",
       "      <td>77511</td>\n",
       "      <td>False</td>\n",
       "      <td>worker</td>\n",
       "    </tr>\n",
       "    <tr>\n",
       "      <th>4</th>\n",
       "      <td>4</td>\n",
       "      <td>2018-07-07 12:56:00</td>\n",
       "      <td>005_310.png</td>\n",
       "      <td>Saratoga, CA, USA</td>\n",
       "      <td>95070</td>\n",
       "      <td>False</td>\n",
       "      <td>worker</td>\n",
       "    </tr>\n",
       "    <tr>\n",
       "      <th>...</th>\n",
       "      <td>...</td>\n",
       "      <td>...</td>\n",
       "      <td>...</td>\n",
       "      <td>...</td>\n",
       "      <td>...</td>\n",
       "      <td>...</td>\n",
       "      <td>...</td>\n",
       "    </tr>\n",
       "    <tr>\n",
       "      <th>1702</th>\n",
       "      <td>1702</td>\n",
       "      <td>2018-08-06 11:25:00</td>\n",
       "      <td>018_051.png</td>\n",
       "      <td>Saratoga, CA, USA</td>\n",
       "      <td>95070</td>\n",
       "      <td>False</td>\n",
       "      <td>worker</td>\n",
       "    </tr>\n",
       "    <tr>\n",
       "      <th>1703</th>\n",
       "      <td>1703</td>\n",
       "      <td>2018-08-18 12:30:00</td>\n",
       "      <td>038_381.png</td>\n",
       "      <td>Athens, Georgia, USA</td>\n",
       "      <td>30607</td>\n",
       "      <td>False</td>\n",
       "      <td>worker</td>\n",
       "    </tr>\n",
       "    <tr>\n",
       "      <th>1704</th>\n",
       "      <td>1704</td>\n",
       "      <td>2018-08-17 17:50:00</td>\n",
       "      <td>030_809.png</td>\n",
       "      <td>Alvin, TX, USA</td>\n",
       "      <td>77511</td>\n",
       "      <td>False</td>\n",
       "      <td>worker</td>\n",
       "    </tr>\n",
       "    <tr>\n",
       "      <th>1705</th>\n",
       "      <td>1705</td>\n",
       "      <td>2018-08-19 12:46:00</td>\n",
       "      <td>010_419.png</td>\n",
       "      <td>Des Moines, IA, USA</td>\n",
       "      <td>50315</td>\n",
       "      <td>False</td>\n",
       "      <td>worker</td>\n",
       "    </tr>\n",
       "    <tr>\n",
       "      <th>1706</th>\n",
       "      <td>1706</td>\n",
       "      <td>2018-08-20 11:55:00</td>\n",
       "      <td>016_268.png</td>\n",
       "      <td>San Jose, CA, USA</td>\n",
       "      <td>95124</td>\n",
       "      <td>False</td>\n",
       "      <td>worker</td>\n",
       "    </tr>\n",
       "  </tbody>\n",
       "</table>\n",
       "<p>1707 rows × 7 columns</p>\n",
       "</div>"
      ],
      "text/plain": [
       "        id             datetime         file              location  zip code  \\\n",
       "0        0  2018-08-28 16:07:00  042_012.png        Alvin, TX, USA     77511   \n",
       "1        1  2018-08-10 13:54:00  022_114.png     Saratoga, CA, USA     95070   \n",
       "2        2  2018-08-18 12:30:00  038_384.png  Athens, Georgia, USA     30607   \n",
       "3        3  2018-08-17 17:50:00  030_740.png        Alvin, TX, USA     77511   \n",
       "4        4  2018-07-07 12:56:00  005_310.png     Saratoga, CA, USA     95070   \n",
       "...    ...                  ...          ...                   ...       ...   \n",
       "1702  1702  2018-08-06 11:25:00  018_051.png     Saratoga, CA, USA     95070   \n",
       "1703  1703  2018-08-18 12:30:00  038_381.png  Athens, Georgia, USA     30607   \n",
       "1704  1704  2018-08-17 17:50:00  030_809.png        Alvin, TX, USA     77511   \n",
       "1705  1705  2018-08-19 12:46:00  010_419.png   Des Moines, IA, USA     50315   \n",
       "1706  1706  2018-08-20 11:55:00  016_268.png     San Jose, CA, USA     95124   \n",
       "\n",
       "      pollen_carrying   caste  \n",
       "0               False  worker  \n",
       "1               False  worker  \n",
       "2               False  worker  \n",
       "3               False  worker  \n",
       "4               False  worker  \n",
       "...               ...     ...  \n",
       "1702            False  worker  \n",
       "1703            False  worker  \n",
       "1704            False  worker  \n",
       "1705            False  worker  \n",
       "1706            False  worker  \n",
       "\n",
       "[1707 rows x 7 columns]"
      ]
     },
     "execution_count": 8,
     "metadata": {},
     "output_type": "execute_result"
    }
   ],
   "source": [
    "bees_test_for_evaluation"
   ]
  },
  {
   "cell_type": "markdown",
   "metadata": {
    "_uuid": "d750593ed655926232fabd8653ebadde62b19b31"
   },
   "source": [
    "## 3.2 Ver imágenes"
   ]
  },
  {
   "cell_type": "code",
   "execution_count": 9,
   "metadata": {},
   "outputs": [
    {
     "data": {
      "image/png": "[encoded data removed]",
      "text/plain": [
       "<Figure size 1440x360 with 5 Axes>"
      ]
     },
     "metadata": {
      "needs_background": "light"
     },
     "output_type": "display_data"
    }
   ],
   "source": [
    "Utils.plot_images(bees, 'location', [0, 18, 24, 38, 45])"
   ]
  },
  {
   "cell_type": "markdown",
   "metadata": {
    "_uuid": "79fb4788f90b3603c8b71472f44647b808bab25e"
   },
   "source": [
    "# 4. Clasificación\n",
    "\n",
    "## 4.1. Data preprocessing\n",
    "### 4.1.1 Particionamiento"
   ]
  },
  {
   "cell_type": "code",
   "execution_count": 10,
   "metadata": {
    "_uuid": "a167115aa4fcc937097a1c5c8899b909f33fb2d5"
   },
   "outputs": [
    {
     "data": {
      "text/html": [
       "<div>\n",
       "<style scoped>\n",
       "    .dataframe tbody tr th:only-of-type {\n",
       "        vertical-align: middle;\n",
       "    }\n",
       "\n",
       "    .dataframe tbody tr th {\n",
       "        vertical-align: top;\n",
       "    }\n",
       "\n",
       "    .dataframe thead th {\n",
       "        text-align: right;\n",
       "    }\n",
       "</style>\n",
       "<table border=\"1\" class=\"dataframe\">\n",
       "  <thead>\n",
       "    <tr style=\"text-align: right;\">\n",
       "      <th></th>\n",
       "      <th>id</th>\n",
       "      <th>datetime</th>\n",
       "      <th>file</th>\n",
       "      <th>location</th>\n",
       "      <th>zip code</th>\n",
       "      <th>subspecies</th>\n",
       "      <th>health</th>\n",
       "      <th>pollen_carrying</th>\n",
       "      <th>caste</th>\n",
       "    </tr>\n",
       "  </thead>\n",
       "  <tbody>\n",
       "    <tr>\n",
       "      <th>225</th>\n",
       "      <td>225</td>\n",
       "      <td>2018-08-06 13:19:00</td>\n",
       "      <td>015_996.png</td>\n",
       "      <td>Saratoga, CA, USA</td>\n",
       "      <td>95070</td>\n",
       "      <td>Italian honey bee</td>\n",
       "      <td>healthy</td>\n",
       "      <td>False</td>\n",
       "      <td>worker</td>\n",
       "    </tr>\n",
       "    <tr>\n",
       "      <th>2453</th>\n",
       "      <td>2453</td>\n",
       "      <td>2018-08-06 13:19:00</td>\n",
       "      <td>015_895.png</td>\n",
       "      <td>Saratoga, CA, USA</td>\n",
       "      <td>95070</td>\n",
       "      <td>Italian honey bee</td>\n",
       "      <td>healthy</td>\n",
       "      <td>False</td>\n",
       "      <td>worker</td>\n",
       "    </tr>\n",
       "    <tr>\n",
       "      <th>3009</th>\n",
       "      <td>3009</td>\n",
       "      <td>2018-08-21 15:56:00</td>\n",
       "      <td>040_526.png</td>\n",
       "      <td>Athens, GA, USA</td>\n",
       "      <td>30607</td>\n",
       "      <td>Italian honey bee</td>\n",
       "      <td>few varrao, hive beetles</td>\n",
       "      <td>False</td>\n",
       "      <td>worker</td>\n",
       "    </tr>\n",
       "    <tr>\n",
       "      <th>3270</th>\n",
       "      <td>3270</td>\n",
       "      <td>2018-08-19 12:46:00</td>\n",
       "      <td>010_123.png</td>\n",
       "      <td>Des Moines, IA, USA</td>\n",
       "      <td>50315</td>\n",
       "      <td>Carniolan honey bee</td>\n",
       "      <td>healthy</td>\n",
       "      <td>False</td>\n",
       "      <td>worker</td>\n",
       "    </tr>\n",
       "    <tr>\n",
       "      <th>2622</th>\n",
       "      <td>2622</td>\n",
       "      <td>2018-08-10 13:54:00</td>\n",
       "      <td>022_361.png</td>\n",
       "      <td>Saratoga, CA, USA</td>\n",
       "      <td>95070</td>\n",
       "      <td>Italian honey bee</td>\n",
       "      <td>healthy</td>\n",
       "      <td>False</td>\n",
       "      <td>worker</td>\n",
       "    </tr>\n",
       "    <tr>\n",
       "      <th>...</th>\n",
       "      <td>...</td>\n",
       "      <td>...</td>\n",
       "      <td>...</td>\n",
       "      <td>...</td>\n",
       "      <td>...</td>\n",
       "      <td>...</td>\n",
       "      <td>...</td>\n",
       "      <td>...</td>\n",
       "      <td>...</td>\n",
       "    </tr>\n",
       "    <tr>\n",
       "      <th>1275</th>\n",
       "      <td>1275</td>\n",
       "      <td>2018-08-28 16:07:00</td>\n",
       "      <td>042_004.png</td>\n",
       "      <td>Alvin, TX, USA</td>\n",
       "      <td>77511</td>\n",
       "      <td>-1</td>\n",
       "      <td>hive being robbed</td>\n",
       "      <td>False</td>\n",
       "      <td>worker</td>\n",
       "    </tr>\n",
       "    <tr>\n",
       "      <th>1439</th>\n",
       "      <td>1439</td>\n",
       "      <td>2018-08-06 19:19:00</td>\n",
       "      <td>019_1195.png</td>\n",
       "      <td>Saratoga, CA, USA</td>\n",
       "      <td>95070</td>\n",
       "      <td>Italian honey bee</td>\n",
       "      <td>healthy</td>\n",
       "      <td>False</td>\n",
       "      <td>worker</td>\n",
       "    </tr>\n",
       "    <tr>\n",
       "      <th>1175</th>\n",
       "      <td>1175</td>\n",
       "      <td>2018-08-17 17:50:00</td>\n",
       "      <td>030_883.png</td>\n",
       "      <td>Alvin, TX, USA</td>\n",
       "      <td>77511</td>\n",
       "      <td>Italian honey bee</td>\n",
       "      <td>ant problems</td>\n",
       "      <td>False</td>\n",
       "      <td>worker</td>\n",
       "    </tr>\n",
       "    <tr>\n",
       "      <th>2765</th>\n",
       "      <td>2765</td>\n",
       "      <td>2018-08-10 13:54:00</td>\n",
       "      <td>022_379.png</td>\n",
       "      <td>Saratoga, CA, USA</td>\n",
       "      <td>95070</td>\n",
       "      <td>Italian honey bee</td>\n",
       "      <td>healthy</td>\n",
       "      <td>False</td>\n",
       "      <td>worker</td>\n",
       "    </tr>\n",
       "    <tr>\n",
       "      <th>189</th>\n",
       "      <td>189</td>\n",
       "      <td>2018-08-19 12:46:00</td>\n",
       "      <td>010_843.png</td>\n",
       "      <td>Des Moines, IA, USA</td>\n",
       "      <td>50315</td>\n",
       "      <td>Carniolan honey bee</td>\n",
       "      <td>healthy</td>\n",
       "      <td>False</td>\n",
       "      <td>worker</td>\n",
       "    </tr>\n",
       "  </tbody>\n",
       "</table>\n",
       "<p>2338 rows × 9 columns</p>\n",
       "</div>"
      ],
      "text/plain": [
       "        id             datetime          file             location  zip code  \\\n",
       "225    225  2018-08-06 13:19:00   015_996.png    Saratoga, CA, USA     95070   \n",
       "2453  2453  2018-08-06 13:19:00   015_895.png    Saratoga, CA, USA     95070   \n",
       "3009  3009  2018-08-21 15:56:00   040_526.png      Athens, GA, USA     30607   \n",
       "3270  3270  2018-08-19 12:46:00   010_123.png  Des Moines, IA, USA     50315   \n",
       "2622  2622  2018-08-10 13:54:00   022_361.png    Saratoga, CA, USA     95070   \n",
       "...    ...                  ...           ...                  ...       ...   \n",
       "1275  1275  2018-08-28 16:07:00   042_004.png       Alvin, TX, USA     77511   \n",
       "1439  1439  2018-08-06 19:19:00  019_1195.png    Saratoga, CA, USA     95070   \n",
       "1175  1175  2018-08-17 17:50:00   030_883.png       Alvin, TX, USA     77511   \n",
       "2765  2765  2018-08-10 13:54:00   022_379.png    Saratoga, CA, USA     95070   \n",
       "189    189  2018-08-19 12:46:00   010_843.png  Des Moines, IA, USA     50315   \n",
       "\n",
       "               subspecies                    health  pollen_carrying   caste  \n",
       "225     Italian honey bee                   healthy            False  worker  \n",
       "2453    Italian honey bee                   healthy            False  worker  \n",
       "3009    Italian honey bee  few varrao, hive beetles            False  worker  \n",
       "3270  Carniolan honey bee                   healthy            False  worker  \n",
       "2622    Italian honey bee                   healthy            False  worker  \n",
       "...                   ...                       ...              ...     ...  \n",
       "1275                   -1         hive being robbed            False  worker  \n",
       "1439    Italian honey bee                   healthy            False  worker  \n",
       "1175    Italian honey bee              ant problems            False  worker  \n",
       "2765    Italian honey bee                   healthy            False  worker  \n",
       "189   Carniolan honey bee                   healthy            False  worker  \n",
       "\n",
       "[2338 rows x 9 columns]"
      ]
     },
     "execution_count": 10,
     "metadata": {},
     "output_type": "execute_result"
    }
   ],
   "source": [
    "train_bees, val_bees, test_bees = Utils.split(bees)\n",
    "train_bees"
   ]
  },
  {
   "cell_type": "markdown",
   "metadata": {
    "_uuid": "e9650143e38ccda561450d08d241cb7ce51c89e8"
   },
   "source": [
    "\n",
    "### 4.1.2 Carga de imágenes"
   ]
  },
  {
   "cell_type": "code",
   "execution_count": 11,
   "metadata": {
    "_uuid": "dcda4508b7424518d4c11a0e4b7ad2a05f803601"
   },
   "outputs": [],
   "source": [
    "train_X, val_X, test_X, train_y, val_y, test_y = Utils.load_images_and_target(train_bees, \n",
    "                                                                              val_bees, \n",
    "                                                                              test_bees,\n",
    "                                                                              'subspecies',\n",
    "                                                                              img_width, \n",
    "                                                                              img_height,\n",
    "                                                                              img_channels)"
   ]
  },
  {
   "cell_type": "code",
   "execution_count": 12,
   "metadata": {},
   "outputs": [],
   "source": [
    "train_X /= 255\n",
    "val_X /= 255\n",
    "test_X /= 255\n",
    "train_y /= 255\n",
    "val_y /= 255\n",
    "test_y /= 255"
   ]
  },
  {
   "cell_type": "markdown",
   "metadata": {
    "_uuid": "f969b9f496c11dacac4583a319f3dcbd56d3a6ea"
   },
   "source": [
    "## 4.2 CNN"
   ]
  },
  {
   "cell_type": "code",
   "execution_count": null,
   "metadata": {},
   "outputs": [],
   "source": []
  },
  {
   "cell_type": "code",
   "execution_count": 13,
   "metadata": {
    "_uuid": "053d12032f6d113094617826f5f78bba8555c115"
   },
   "outputs": [
    {
     "name": "stdout",
     "output_type": "stream",
     "text": [
      "WARNING:tensorflow:From C:\\Users\\drodr\\.conda\\envs\\keras-gpuP36\\lib\\site-packages\\keras\\backend\\tensorflow_backend.py:74: The name tf.get_default_graph is deprecated. Please use tf.compat.v1.get_default_graph instead.\n",
      "\n",
      "WARNING:tensorflow:From C:\\Users\\drodr\\.conda\\envs\\keras-gpuP36\\lib\\site-packages\\keras\\backend\\tensorflow_backend.py:517: The name tf.placeholder is deprecated. Please use tf.compat.v1.placeholder instead.\n",
      "\n",
      "WARNING:tensorflow:From C:\\Users\\drodr\\.conda\\envs\\keras-gpuP36\\lib\\site-packages\\keras\\backend\\tensorflow_backend.py:4138: The name tf.random_uniform is deprecated. Please use tf.random.uniform instead.\n",
      "\n",
      "WARNING:tensorflow:From C:\\Users\\drodr\\.conda\\envs\\keras-gpuP36\\lib\\site-packages\\keras\\backend\\tensorflow_backend.py:3976: The name tf.nn.max_pool is deprecated. Please use tf.nn.max_pool2d instead.\n",
      "\n",
      "_________________________________________________________________\n",
      "Layer (type)                 Output Shape              Param #   \n",
      "=================================================================\n",
      "conv2d_1 (Conv2D)            (None, 100, 100, 8)       224       \n",
      "_________________________________________________________________\n",
      "max_pooling2d_1 (MaxPooling2 (None, 33, 33, 8)         0         \n",
      "_________________________________________________________________\n",
      "conv2d_2 (Conv2D)            (None, 33, 33, 4)         292       \n",
      "_________________________________________________________________\n",
      "max_pooling2d_2 (MaxPooling2 (None, 11, 11, 4)         0         \n",
      "_________________________________________________________________\n",
      "flatten_1 (Flatten)          (None, 484)               0         \n",
      "_________________________________________________________________\n",
      "dense_1 (Dense)              (None, 7)                 3395      \n",
      "=================================================================\n",
      "Total params: 3,911\n",
      "Trainable params: 3,911\n",
      "Non-trainable params: 0\n",
      "_________________________________________________________________\n"
     ]
    }
   ],
   "source": [
    "Num_Architecture = 3\n",
    "\n",
    "model1 = Sequential()\n",
    "model1.add(Conv2D(8,kernel_size=3,padding='same',activation='relu',input_shape =(img_height, img_width, img_channels))) #capa Conv\n",
    "model1.add(MaxPool2D(3))\n",
    "\n",
    "model1.add(Conv2D(4, kernel_size=3, activation='relu', padding='same'))\n",
    "model1.add(MaxPool2D(3))\n",
    "\n",
    "\n",
    "#model1.add(Conv2D(8, kernel_size=3, activation='relu', padding='same'))\n",
    "#model1.add(MaxPool2D(3))\n",
    "\n",
    "#model1.add(Conv2D(32, kernel_size=3, activation='relu', padding='same'))\n",
    "#model1.add(MaxPool2D(2))\n",
    "# Add output layer\n",
    "model1.add(Flatten())\n",
    "#model1.add(Dropout(rate=0.1)) \n",
    "\n",
    "model1.add(Dense(train_y.columns.size, activation = 'softmax'))\n",
    "model1.summary()\n"
   ]
  },
  {
   "cell_type": "markdown",
   "metadata": {},
   "source": [
    "## 4.3 Entrenamiento"
   ]
  },
  {
   "cell_type": "markdown",
   "metadata": {},
   "source": [
    "### 4.2.2 Parámetros de transformación de imágenes (data augmentation)"
   ]
  },
  {
   "cell_type": "code",
   "execution_count": 14,
   "metadata": {},
   "outputs": [],
   "source": [
    "rotation_range = 350      # rotación aleatoria en grados entre 0 a rotation_range\n",
    "zoom_range = 0.10         # zoom aleatorio\n",
    "width_shift_range = 0.6  # desplazamiento horizontal aleatorio (fracción del total)\n",
    "height_shift_range = 0.6 # desplazamiento vertical aleatorio (fracción del total)\n",
    "horizontal_flip = True   # transposición horizontal\n",
    "vertical_flip = True     # transposición horizontal"
   ]
  },
  {
   "cell_type": "code",
   "execution_count": 15,
   "metadata": {
    "_uuid": "053d12032f6d113094617826f5f78bba8555c115"
   },
   "outputs": [],
   "source": [
    "optimizer = 2 #1 Adam, 2 Sgd\n",
    "loss = 'categorical_crossentropy'\n",
    "steps_per_epoch = 60\n",
    "patience = 40\n",
    "class_weights = Utils.class_weights(bees, 'subspecies')"
   ]
  },
  {
   "cell_type": "code",
   "execution_count": 16,
   "metadata": {},
   "outputs": [
    {
     "data": {
      "text/plain": [
       "array([ 1.75531915,  1.64451827,  1.43895349,  0.24626866,  1.375     ,\n",
       "        3.39041096, 22.5       ])"
      ]
     },
     "execution_count": 16,
     "metadata": {},
     "output_type": "execute_result"
    }
   ],
   "source": [
    "class_weights"
   ]
  },
  {
   "cell_type": "code",
   "execution_count": 17,
   "metadata": {
    "_uuid": "053d12032f6d113094617826f5f78bba8555c115"
   },
   "outputs": [
    {
     "name": "stdout",
     "output_type": "stream",
     "text": [
      "\n",
      "--------------------------------Inicio----------------------------------------\n",
      "StartTime:  20191116-121849  lr: 0.1  batch: 100 epochs:  80  inicio iteracion:  1\n",
      "\n"
     ]
    },
    {
     "name": "stderr",
     "output_type": "stream",
     "text": [
      "C:\\Users\\drodr\\.conda\\envs\\keras-gpuP36\\lib\\site-packages\\keras_preprocessing\\image\\image_data_generator.py:336: UserWarning: This ImageDataGenerator specifies `zca_whitening`, which overrides setting of `featurewise_center`.\n",
      "  warnings.warn('This ImageDataGenerator specifies '\n"
     ]
    },
    {
     "ename": "ValueError",
     "evalue": "Too large work array required -- computation cannot be performed with standard 32-bit LAPACK.",
     "output_type": "error",
     "traceback": [
      "\u001b[1;31m---------------------------------------------------------------------------\u001b[0m",
      "\u001b[1;31mValueError\u001b[0m                                Traceback (most recent call last)",
      "\u001b[1;32m<ipython-input-17-59b401fec284>\u001b[0m in \u001b[0;36m<module>\u001b[1;34m\u001b[0m\n\u001b[0;32m     30\u001b[0m                                             \u001b[0mlearn_rate\u001b[0m \u001b[1;33m=\u001b[0m \u001b[0mlr\u001b[0m\u001b[1;33m,\u001b[0m\u001b[1;33m\u001b[0m\u001b[1;33m\u001b[0m\u001b[0m\n\u001b[0;32m     31\u001b[0m                                             \u001b[0mStartTime\u001b[0m \u001b[1;33m=\u001b[0m \u001b[0mStartTime\u001b[0m\u001b[1;33m,\u001b[0m\u001b[1;33m\u001b[0m\u001b[1;33m\u001b[0m\u001b[0m\n\u001b[1;32m---> 32\u001b[1;33m                                             Optimizer = optimizer)\n\u001b[0m\u001b[0;32m     33\u001b[0m \u001b[1;33m\u001b[0m\u001b[0m\n\u001b[0;32m     34\u001b[0m             \u001b[0mprint\u001b[0m\u001b[1;33m(\u001b[0m\u001b[1;34m\"\"\u001b[0m\u001b[1;33m)\u001b[0m\u001b[1;33m\u001b[0m\u001b[1;33m\u001b[0m\u001b[0m\n",
      "\u001b[1;32m~\\Google Drive\\Capacitation\\ORT\\Deep Learning 2\\Obligatorio\\template_v1.2\\template_v1.2\\Utils.py\u001b[0m in \u001b[0;36mtrain\u001b[1;34m(NumArq, Iteration, model, train_X, train_y, batch_size, epochs, validation_data_X, validation_data_y, steps_per_epoch, rotation_range, zoom_range, width_shift_range, height_shift_range, horizontal_flip, vertical_flip, patience, class_weights, learn_rate, StartTime, Optimizer)\u001b[0m\n\u001b[0;32m    199\u001b[0m         \u001b[0mfile1\u001b[0m\u001b[1;33m.\u001b[0m\u001b[0mclose\u001b[0m\u001b[1;33m(\u001b[0m\u001b[1;33m)\u001b[0m\u001b[1;33m\u001b[0m\u001b[1;33m\u001b[0m\u001b[0m\n\u001b[0;32m    200\u001b[0m \u001b[1;33m\u001b[0m\u001b[0m\n\u001b[1;32m--> 201\u001b[1;33m         \u001b[0mgenerator\u001b[0m\u001b[1;33m.\u001b[0m\u001b[0mfit\u001b[0m\u001b[1;33m(\u001b[0m\u001b[0mtrain_X\u001b[0m\u001b[1;33m)\u001b[0m\u001b[1;33m\u001b[0m\u001b[1;33m\u001b[0m\u001b[0m\n\u001b[0m\u001b[0;32m    202\u001b[0m         \u001b[1;31m#Train\u001b[0m\u001b[1;33m\u001b[0m\u001b[1;33m\u001b[0m\u001b[1;33m\u001b[0m\u001b[0m\n\u001b[0;32m    203\u001b[0m         \u001b[1;31m##Callbacks\u001b[0m\u001b[1;33m\u001b[0m\u001b[1;33m\u001b[0m\u001b[1;33m\u001b[0m\u001b[0m\n",
      "\u001b[1;32m~\\.conda\\envs\\keras-gpuP36\\lib\\site-packages\\keras_preprocessing\\image\\image_data_generator.py\u001b[0m in \u001b[0;36mfit\u001b[1;34m(self, x, augment, rounds, seed)\u001b[0m\n\u001b[0;32m    974\u001b[0m                 x, (x.shape[0], x.shape[1] * x.shape[2] * x.shape[3]))\n\u001b[0;32m    975\u001b[0m             \u001b[0msigma\u001b[0m \u001b[1;33m=\u001b[0m \u001b[0mnp\u001b[0m\u001b[1;33m.\u001b[0m\u001b[0mdot\u001b[0m\u001b[1;33m(\u001b[0m\u001b[0mflat_x\u001b[0m\u001b[1;33m.\u001b[0m\u001b[0mT\u001b[0m\u001b[1;33m,\u001b[0m \u001b[0mflat_x\u001b[0m\u001b[1;33m)\u001b[0m \u001b[1;33m/\u001b[0m \u001b[0mflat_x\u001b[0m\u001b[1;33m.\u001b[0m\u001b[0mshape\u001b[0m\u001b[1;33m[\u001b[0m\u001b[1;36m0\u001b[0m\u001b[1;33m]\u001b[0m\u001b[1;33m\u001b[0m\u001b[1;33m\u001b[0m\u001b[0m\n\u001b[1;32m--> 976\u001b[1;33m             \u001b[0mu\u001b[0m\u001b[1;33m,\u001b[0m \u001b[0ms\u001b[0m\u001b[1;33m,\u001b[0m \u001b[0m_\u001b[0m \u001b[1;33m=\u001b[0m \u001b[0mlinalg\u001b[0m\u001b[1;33m.\u001b[0m\u001b[0msvd\u001b[0m\u001b[1;33m(\u001b[0m\u001b[0msigma\u001b[0m\u001b[1;33m)\u001b[0m\u001b[1;33m\u001b[0m\u001b[1;33m\u001b[0m\u001b[0m\n\u001b[0m\u001b[0;32m    977\u001b[0m             \u001b[0ms_inv\u001b[0m \u001b[1;33m=\u001b[0m \u001b[1;36m1.\u001b[0m \u001b[1;33m/\u001b[0m \u001b[0mnp\u001b[0m\u001b[1;33m.\u001b[0m\u001b[0msqrt\u001b[0m\u001b[1;33m(\u001b[0m\u001b[0ms\u001b[0m\u001b[1;33m[\u001b[0m\u001b[0mnp\u001b[0m\u001b[1;33m.\u001b[0m\u001b[0mnewaxis\u001b[0m\u001b[1;33m]\u001b[0m \u001b[1;33m+\u001b[0m \u001b[0mself\u001b[0m\u001b[1;33m.\u001b[0m\u001b[0mzca_epsilon\u001b[0m\u001b[1;33m)\u001b[0m\u001b[1;33m\u001b[0m\u001b[1;33m\u001b[0m\u001b[0m\n\u001b[0;32m    978\u001b[0m             \u001b[0mself\u001b[0m\u001b[1;33m.\u001b[0m\u001b[0mprincipal_components\u001b[0m \u001b[1;33m=\u001b[0m \u001b[1;33m(\u001b[0m\u001b[0mu\u001b[0m \u001b[1;33m*\u001b[0m \u001b[0ms_inv\u001b[0m\u001b[1;33m)\u001b[0m\u001b[1;33m.\u001b[0m\u001b[0mdot\u001b[0m\u001b[1;33m(\u001b[0m\u001b[0mu\u001b[0m\u001b[1;33m.\u001b[0m\u001b[0mT\u001b[0m\u001b[1;33m)\u001b[0m\u001b[1;33m\u001b[0m\u001b[1;33m\u001b[0m\u001b[0m\n",
      "\u001b[1;32m~\\.conda\\envs\\keras-gpuP36\\lib\\site-packages\\scipy\\linalg\\decomp_svd.py\u001b[0m in \u001b[0;36msvd\u001b[1;34m(a, full_matrices, compute_uv, overwrite_a, check_finite, lapack_driver)\u001b[0m\n\u001b[0;32m    123\u001b[0m     \u001b[1;31m# compute optimal lwork\u001b[0m\u001b[1;33m\u001b[0m\u001b[1;33m\u001b[0m\u001b[1;33m\u001b[0m\u001b[0m\n\u001b[0;32m    124\u001b[0m     lwork = _compute_lwork(gesXd_lwork, a1.shape[0], a1.shape[1],\n\u001b[1;32m--> 125\u001b[1;33m                            compute_uv=compute_uv, full_matrices=full_matrices)\n\u001b[0m\u001b[0;32m    126\u001b[0m \u001b[1;33m\u001b[0m\u001b[0m\n\u001b[0;32m    127\u001b[0m     \u001b[1;31m# perform decomposition\u001b[0m\u001b[1;33m\u001b[0m\u001b[1;33m\u001b[0m\u001b[1;33m\u001b[0m\u001b[0m\n",
      "\u001b[1;32m~\\.conda\\envs\\keras-gpuP36\\lib\\site-packages\\scipy\\linalg\\lapack.py\u001b[0m in \u001b[0;36m_compute_lwork\u001b[1;34m(routine, *args, **kwargs)\u001b[0m\n\u001b[0;32m    769\u001b[0m     \u001b[0mlwork\u001b[0m \u001b[1;33m=\u001b[0m \u001b[0m_np\u001b[0m\u001b[1;33m.\u001b[0m\u001b[0marray\u001b[0m\u001b[1;33m(\u001b[0m\u001b[0mlwork\u001b[0m\u001b[1;33m,\u001b[0m \u001b[0m_np\u001b[0m\u001b[1;33m.\u001b[0m\u001b[0mint64\u001b[0m\u001b[1;33m)\u001b[0m\u001b[1;33m\u001b[0m\u001b[1;33m\u001b[0m\u001b[0m\n\u001b[0;32m    770\u001b[0m     \u001b[1;32mif\u001b[0m \u001b[0m_np\u001b[0m\u001b[1;33m.\u001b[0m\u001b[0many\u001b[0m\u001b[1;33m(\u001b[0m\u001b[0m_np\u001b[0m\u001b[1;33m.\u001b[0m\u001b[0mlogical_or\u001b[0m\u001b[1;33m(\u001b[0m\u001b[0mlwork\u001b[0m \u001b[1;33m<\u001b[0m \u001b[1;36m0\u001b[0m\u001b[1;33m,\u001b[0m \u001b[0mlwork\u001b[0m \u001b[1;33m>\u001b[0m \u001b[0m_np\u001b[0m\u001b[1;33m.\u001b[0m\u001b[0miinfo\u001b[0m\u001b[1;33m(\u001b[0m\u001b[0m_np\u001b[0m\u001b[1;33m.\u001b[0m\u001b[0mint32\u001b[0m\u001b[1;33m)\u001b[0m\u001b[1;33m.\u001b[0m\u001b[0mmax\u001b[0m\u001b[1;33m)\u001b[0m\u001b[1;33m)\u001b[0m\u001b[1;33m:\u001b[0m\u001b[1;33m\u001b[0m\u001b[1;33m\u001b[0m\u001b[0m\n\u001b[1;32m--> 771\u001b[1;33m         raise ValueError(\"Too large work array required -- computation cannot \"\n\u001b[0m\u001b[0;32m    772\u001b[0m                          \"be performed with standard 32-bit LAPACK.\")\n\u001b[0;32m    773\u001b[0m     \u001b[0mlwork\u001b[0m \u001b[1;33m=\u001b[0m \u001b[0mlwork\u001b[0m\u001b[1;33m.\u001b[0m\u001b[0mastype\u001b[0m\u001b[1;33m(\u001b[0m\u001b[0m_np\u001b[0m\u001b[1;33m.\u001b[0m\u001b[0mint32\u001b[0m\u001b[1;33m)\u001b[0m\u001b[1;33m\u001b[0m\u001b[1;33m\u001b[0m\u001b[0m\n",
      "\u001b[1;31mValueError\u001b[0m: Too large work array required -- computation cannot be performed with standard 32-bit LAPACK."
     ]
    }
   ],
   "source": [
    "Iteration = 1\n",
    "\n",
    "for lr in [0.1,0.001]:\n",
    "    for batch_size in [100, 150,200]:\n",
    "        steps_per_epoch = steps_per_epoch * 1.5\n",
    "        for  epochs in [ 80, 100]:\n",
    "            StartTime = datetime.datetime.now()\n",
    "            print(\"\")\n",
    "            print(\"--------------------------------Inicio----------------------------------------\")\n",
    "            print(\"StartTime: \", StartTime.strftime(\"%Y%m%d-%H%M%S\") , ' lr:', lr,' batch:', batch_size, \"epochs: \", epochs , \" inicio iteracion: \", Iteration )\n",
    "            print(\"\")\n",
    "\n",
    "            training1, model1 = Utils.train(Num_Architecture,Iteration ,\n",
    "                                            model1,\n",
    "                                            train_X,\n",
    "                                            train_y, \n",
    "                                            batch_size = batch_size,\n",
    "                                            epochs = epochs,\n",
    "                                            validation_data_X = val_X, \n",
    "                                            validation_data_y = val_y,\n",
    "                                            steps_per_epoch = steps_per_epoch,\n",
    "                                            rotation_range = rotation_range,\n",
    "                                            zoom_range = zoom_range, \n",
    "                                            width_shift_range = width_shift_range,\n",
    "                                            height_shift_range = height_shift_range,\n",
    "                                            horizontal_flip = horizontal_flip,  \n",
    "                                            vertical_flip = vertical_flip,\n",
    "                                            patience = patience,\n",
    "                                            class_weights = class_weights,\n",
    "                                            learn_rate = lr,\n",
    "                                            StartTime = StartTime,\n",
    "                                            Optimizer = optimizer)\n",
    "\n",
    "            print(\"\")\n",
    "            Utils.eval_model(training1, model1, test_X, test_y, 'subspecies')\n",
    "            print(\"StartTime: \", StartTime.strftime(\"%Y%m%d-%H%M%S\") , ' lr:', lr,' batch:', batch_size, \"epochs: \", epochs , \" Fin iteracion: \", Iteration )\n",
    "            print(\"-------------------------------FIN-----------------------------------------\")\n",
    "            print(\"\")\n",
    "            Iteration = Iteration + 1\n",
    "            patience = patience * 1.5\n",
    "    steps_per_epoch = 40\n",
    "    patience = 35\n"
   ]
  },
  {
   "cell_type": "markdown",
   "metadata": {
    "_uuid": "ac639c24adf884c806ce1ab985fe7db7e9aab26a"
   },
   "source": [
    "## 4.3 Evaluación del modelo"
   ]
  },
  {
   "cell_type": "code",
   "execution_count": null,
   "metadata": {
    "_uuid": "b096e119c62a41dc227ad9f12131ca0c28dbed8b"
   },
   "outputs": [],
   "source": [
    "Utils.eval_model(training1, model1, test_X, test_y, 'subspecies')"
   ]
  },
  {
   "cell_type": "code",
   "execution_count": null,
   "metadata": {},
   "outputs": [],
   "source": []
  }
 ],
 "metadata": {
  "kernelspec": {
   "display_name": "Python 3",
   "language": "python",
   "name": "python3"
  },
  "language_info": {
   "codemirror_mode": {
    "name": "ipython",
    "version": 3
   },
   "file_extension": ".py",
   "mimetype": "text/x-python",
   "name": "python",
   "nbconvert_exporter": "python",
   "pygments_lexer": "ipython3",
   "version": "3.6.9"
  }
 },
 "nbformat": 4,
 "nbformat_minor": 1
}
